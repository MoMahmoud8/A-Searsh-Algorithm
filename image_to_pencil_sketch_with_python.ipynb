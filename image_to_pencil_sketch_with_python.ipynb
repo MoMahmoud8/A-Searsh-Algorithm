{
  "nbformat": 4,
  "nbformat_minor": 0,
  "metadata": {
    "colab": {
      "private_outputs": true,
      "provenance": [],
      "authorship_tag": "ABX9TyPzvZB0DVVYNTm/IoiXflOg",
      "include_colab_link": true
    },
    "kernelspec": {
      "name": "python3",
      "display_name": "Python 3"
    },
    "language_info": {
      "name": "python"
    },
    "accelerator": "GPU",
    "gpuClass": "standard"
  },
  "cells": [
    {
      "cell_type": "markdown",
      "metadata": {
        "id": "view-in-github",
        "colab_type": "text"
      },
      "source": [
        "<a href=\"https://colab.research.google.com/github/MoMahmoud8/A-Star-Searsh-Algorithm/blob/main/image_to_pencil_sketch_with_python.ipynb\" target=\"_parent\"><img src=\"https://colab.research.google.com/assets/colab-badge.svg\" alt=\"Open In Colab\"/></a>"
      ]
    },
    {
      "cell_type": "code",
      "execution_count": null,
      "metadata": {
        "id": "oq3lv9ZRC120"
      },
      "outputs": [],
      "source": [
        "import cv2"
      ]
    },
    {
      "cell_type": "code",
      "source": [
        "image = cv2.imread(\"/content/cr7.jpg\")\n",
        "#cv2.imshow()\n",
        "\n",
        "from google.colab.patches import cv2_imshow\n",
        "cv2_imshow(image)\n",
        "cv2.waitKey(0)"
      ],
      "metadata": {
        "id": "_RPBmWKFC5VR"
      },
      "execution_count": null,
      "outputs": []
    },
    {
      "cell_type": "code",
      "source": [
        "gray_image = cv2.cvtColor(image, cv2.COLOR_BGR2GRAY )\n",
        "cv2_imshow(gray_image)\n",
        "cv2.waitKey(0)"
      ],
      "metadata": {
        "id": "9lCQtD42C5ir"
      },
      "execution_count": null,
      "outputs": []
    },
    {
      "cell_type": "code",
      "source": [
        "inverted_image = 255 - gray_image\n",
        "cv2_imshow( inverted_image)\n",
        "cv2.waitKey()"
      ],
      "metadata": {
        "id": "njk5hNrOC5kI"
      },
      "execution_count": null,
      "outputs": []
    },
    {
      "cell_type": "code",
      "source": [
        "blurred = cv2.GaussianBlur(inverted_image, (21, 21), 0)"
      ],
      "metadata": {
        "id": "fIHuhOLYC5n5"
      },
      "execution_count": null,
      "outputs": []
    },
    {
      "cell_type": "code",
      "source": [
        "inverted_blurred = 255 - blurred\n",
        "pencil_sketch = cv2.divide(gray_image, inverted_blurred, scale=256.0)\n",
        "cv2_imshow( pencil_sketch)\n",
        "cv2.waitKey(0)"
      ],
      "metadata": {
        "id": "rMUzEkdJC5op"
      },
      "execution_count": null,
      "outputs": []
    },
    {
      "cell_type": "code",
      "source": [
        "cv2_imshow( image)\n",
        "cv2_imshow( pencil_sketch)\n",
        "cv2.waitKey(0)"
      ],
      "metadata": {
        "id": "U0fhBxrkC5uF"
      },
      "execution_count": null,
      "outputs": []
    },
    {
      "cell_type": "code",
      "source": [],
      "metadata": {
        "id": "Ce_TOeFHF4a7"
      },
      "execution_count": null,
      "outputs": []
    }
  ]
}